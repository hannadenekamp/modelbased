{
 "cells": [
  {
   "cell_type": "code",
   "execution_count": 1,
   "id": "e134e200-17c9-436a-a2a2-79943cdce26c",
   "metadata": {},
   "outputs": [],
   "source": [
    "import numpy as np\n",
    "import pandas as pd\n",
    "import seaborn as sns\n",
    "import pickle\n",
    "import matplotlib.pyplot as plt\n",
    "import functools"
   ]
  },
  {
   "cell_type": "code",
   "execution_count": 2,
   "id": "666e1b43-af2b-4149-a1b1-7eca380b1b60",
   "metadata": {},
   "outputs": [],
   "source": [
    "from ema_workbench import ema_logging, MultiprocessingEvaluator, SequentialEvaluator, Samplers"
   ]
  },
  {
   "cell_type": "code",
   "execution_count": null,
   "id": "d7234a78",
   "metadata": {},
   "outputs": [],
   "source": []
  },
  {
   "cell_type": "code",
   "execution_count": 3,
   "id": "74646cf7-4634-4dd4-ba26-d27642e043cd",
   "metadata": {},
   "outputs": [],
   "source": [
    "def robustness(direction, threshold, data):\n",
    "    if direction == SMALLER:\n",
    "        return np.sum(data<=threshold)/data.shape[0]\n",
    "    else:\n",
    "        return np.sum(data>=threshold)/data.shape[0]\n",
    "\n",
    "SMALLER = 'SMALLER'\n",
    "\n",
    "def costs(data):\n",
    "    return data[0]/1e9 # makes numbers nicer\n",
    "\n",
    "Expected_Number_of_Deaths = functools.partial(robustness, SMALLER, 0.001) #not ok\n",
    "Expected_Annual_Damage = functools.partial(robustness, SMALLER, 80e6) #THOSE NUMBERS NEED TO BE SPECIFIED AGAIN\n",
    "Total_Investment_Costs = costs #THOSE NUMBERS NEED TO BE SPECIFIED AGAIN"
   ]
  },
  {
   "cell_type": "code",
   "execution_count": 4,
   "id": "a077a84a-b304-40b6-b7b1-f0c517e238e9",
   "metadata": {},
   "outputs": [],
   "source": [
    "from problem_formulation import get_model_for_problem_formulation\n",
    "\n",
    "model, _ = get_model_for_problem_formulation(1)"
   ]
  },
  {
   "cell_type": "code",
   "execution_count": 5,
   "id": "62491a3b-e348-4056-81be-d7b55efb5d83",
   "metadata": {},
   "outputs": [
    {
     "data": {
      "text/plain": [
       "<Logger EMA (DEBUG)>"
      ]
     },
     "execution_count": 5,
     "metadata": {},
     "output_type": "execute_result"
    }
   ],
   "source": [
    "ema_logging.log_to_stderr(ema_logging.INFO)"
   ]
  },
  {
   "cell_type": "code",
   "execution_count": 6,
   "id": "9ddf4cf3-eaf0-4ea9-b15c-037d4f84a6c6",
   "metadata": {},
   "outputs": [
    {
     "name": "stdout",
     "output_type": "stream",
     "text": [
      "CategoricalParameter('discount rate 0', [0, 1, 2, 3])\n",
      "CategoricalParameter('discount rate 1', [0, 1, 2, 3])\n",
      "CategoricalParameter('discount rate 2', [0, 1, 2, 3])\n",
      "<ema_workbench.em_framework.parameters.IntegerParameter object at 0x000002B9DB9D8E20>\n",
      "<ema_workbench.em_framework.parameters.RealParameter object at 0x000002B9DB9C11F0>\n",
      "<ema_workbench.em_framework.parameters.RealParameter object at 0x000002B9DB9CC310>\n",
      "CategoricalParameter('A.1_Brate', [0, 1, 2])\n",
      "<ema_workbench.em_framework.parameters.RealParameter object at 0x000002B9DB9DCC70>\n",
      "<ema_workbench.em_framework.parameters.RealParameter object at 0x000002B9DB9D8430>\n",
      "CategoricalParameter('A.2_Brate', [0, 1, 2])\n",
      "<ema_workbench.em_framework.parameters.RealParameter object at 0x000002B9DB9C1310>\n",
      "<ema_workbench.em_framework.parameters.RealParameter object at 0x000002B9DB9DCBE0>\n",
      "CategoricalParameter('A.3_Brate', [0, 1, 2])\n",
      "<ema_workbench.em_framework.parameters.RealParameter object at 0x000002B9DB9DCCA0>\n",
      "<ema_workbench.em_framework.parameters.RealParameter object at 0x000002B9DB9DF610>\n",
      "CategoricalParameter('A.4_Brate', [0, 1, 2])\n",
      "<ema_workbench.em_framework.parameters.RealParameter object at 0x000002B9DB9DFC10>\n",
      "<ema_workbench.em_framework.parameters.RealParameter object at 0x000002B9DB9E8670>\n",
      "CategoricalParameter('A.5_Brate', [0, 1, 2])\n"
     ]
    }
   ],
   "source": [
    "# enlisting uncertainties, their types (RealParameter/IntegerParameter/CategoricalParameter), lower boundary, and upper boundary\n",
    "import copy\n",
    "\n",
    "for unc in model.uncertainties:\n",
    "    print(repr(unc))\n",
    "\n",
    "uncertainties = copy.deepcopy(model.uncertainties)"
   ]
  },
  {
   "cell_type": "code",
   "execution_count": 7,
   "id": "0a5bd5fa-5e51-4a7f-b592-175e8e91340a",
   "metadata": {},
   "outputs": [],
   "source": [
    "from ema_workbench import (Model, CategoricalParameter,\n",
    "                           ScalarOutcome, IntegerParameter, RealParameter)\n",
    "\n",
    "from ema_workbench.em_framework.optimization import EpsilonProgress"
   ]
  },
  {
   "cell_type": "code",
   "execution_count": 8,
   "id": "cdd235c4-b57a-4ecc-990c-7f519b8964f2",
   "metadata": {},
   "outputs": [],
   "source": [
    "from ema_workbench.em_framework import sample_uncertainties\n",
    "n_scenarios = 10\n",
    "scenarios = sample_uncertainties(model, n_scenarios)\n",
    "nfe = int(50000)  # Original value: 1000"
   ]
  },
  {
   "cell_type": "code",
   "execution_count": 22,
   "id": "115bf330-4345-4de3-81d3-72b1ff0e64c6",
   "metadata": {},
   "outputs": [],
   "source": [
    "\n",
    "MAXIMIZE = ScalarOutcome.MAXIMIZE\n",
    "MINIMIZE = ScalarOutcome.MINIMIZE\n",
    "\n",
    "funcs = {'Expected Number of Deaths':Expected_Number_of_Deaths,\n",
    "         'Expected Annual Damage': Expected_Annual_Damage,\n",
    "         'Total Investment Costs': Total_Investment_Costs}\n",
    "\n",
    "robustnes_functions = [ScalarOutcome('Expected Number of Deaths', kind=MAXIMIZE,\n",
    "                                     function=Expected_Number_of_Deaths),\n",
    "                       ScalarOutcome('Expected Annual Damage', kind=MAXIMIZE,\n",
    "                                     function=Expected_Annual_Damage),\n",
    "                       ScalarOutcome('Total Investment Costs', kind=MAXIMIZE,\n",
    "                                     function=Total_Investment_Costs),\n",
    "                      ]\n",
    "use_pickle4 = True\n",
    "if use_pickle4:\n",
    "    with open('data/moro_results6.pickle', 'rb') as filehandler:\n",
    "        results4 = pickle.load(filehandler)\n",
    "else:\n",
    "    # we have to change the plausible max for total investment costs\n",
    "    convergence = [EpsilonProgress()]\n",
    "\n",
    "    epsilons=[0.05,]*len(robustnes_functions)  #final value of epsilon should be much lower.Just for experiment purposes is 1\n",
    "    with MultiprocessingEvaluator(model, n_processes=8) as evaluator:\n",
    "        results4 = evaluator.robust_optimize(robustnes_functions, scenarios, nfe=nfe,\n",
    "                                                         convergence=convergence, epsilons=epsilons)\n",
    "    # Save results in Pickle file\n",
    "    with open(\"data/moro_results4.pickle\",\"wb\") as filehandler:\n",
    "        pickle.dump(results4, filehandler)\n",
    "archive, convergence = results4"
   ]
  },
  {
   "cell_type": "markdown",
   "id": "a63c166a",
   "metadata": {},
   "source": [
    "archive"
   ]
  },
  {
   "cell_type": "code",
   "execution_count": 23,
   "id": "df322ffd-d3ed-4c36-aa0d-f4c4edea63e3",
   "metadata": {},
   "outputs": [
    {
     "data": {
      "image/png": "[encoded data removed]",
      "text/plain": [
       "<Figure size 432x288 with 2 Axes>"
      ]
     },
     "metadata": {},
     "output_type": "display_data"
    }
   ],
   "source": [
    "from ema_workbench.analysis import parcoords\n",
    "\n",
    "data = archive.loc[:, [o.name for o in robustnes_functions]]\n",
    "limits = parcoords.get_limits(data)\n",
    "limits.loc[0, :] = 0\n",
    "limits.loc[1, :] = 1.5\n",
    "\n",
    "paraxes = parcoords.ParallelAxes(limits)\n",
    "paraxes.plot(data)\n",
    "plt.show()"
   ]
  },
  {
   "cell_type": "code",
   "execution_count": 24,
   "id": "6822ad52-7330-4069-acb7-9cd541014442",
   "metadata": {},
   "outputs": [
    {
     "data": {
      "image/png": "[encoded data removed]",
      "text/plain": [
       "<Figure size 432x288 with 1 Axes>"
      ]
     },
     "metadata": {},
     "output_type": "display_data"
    }
   ],
   "source": [
    "fig, ax = plt.subplots()\n",
    "ax.plot(convergence.nfe, convergence.epsilon_progress)\n",
    "ax.set_ylabel('$\\epsilon$-progress')\n",
    "\n",
    "ax.set_xlabel('number of function evaluations')\n",
    "plt.show()"
   ]
  },
  {
   "cell_type": "code",
   "execution_count": 25,
   "id": "f5cc8f69",
   "metadata": {},
   "outputs": [
    {
     "ename": "KeyError",
     "evalue": "'policy'",
     "output_type": "error",
     "traceback": [
      "\u001b[1;31m---------------------------------------------------------------------------\u001b[0m",
      "\u001b[1;31mKeyError\u001b[0m                                  Traceback (most recent call last)",
      "File \u001b[1;32mc:\\Users\\hanna\\Anaconda3\\envs\\simmaster\\lib\\site-packages\\pandas\\core\\indexes\\base.py:3621\u001b[0m, in \u001b[0;36mIndex.get_loc\u001b[1;34m(self, key, method, tolerance)\u001b[0m\n\u001b[0;32m   3620\u001b[0m \u001b[39mtry\u001b[39;00m:\n\u001b[1;32m-> 3621\u001b[0m     \u001b[39mreturn\u001b[39;00m \u001b[39mself\u001b[39;49m\u001b[39m.\u001b[39;49m_engine\u001b[39m.\u001b[39;49mget_loc(casted_key)\n\u001b[0;32m   3622\u001b[0m \u001b[39mexcept\u001b[39;00m \u001b[39mKeyError\u001b[39;00m \u001b[39mas\u001b[39;00m err:\n",
      "File \u001b[1;32mc:\\Users\\hanna\\Anaconda3\\envs\\simmaster\\lib\\site-packages\\pandas\\_libs\\index.pyx:136\u001b[0m, in \u001b[0;36mpandas._libs.index.IndexEngine.get_loc\u001b[1;34m()\u001b[0m\n",
      "File \u001b[1;32mc:\\Users\\hanna\\Anaconda3\\envs\\simmaster\\lib\\site-packages\\pandas\\_libs\\index.pyx:163\u001b[0m, in \u001b[0;36mpandas._libs.index.IndexEngine.get_loc\u001b[1;34m()\u001b[0m\n",
      "File \u001b[1;32mpandas\\_libs\\hashtable_class_helper.pxi:5198\u001b[0m, in \u001b[0;36mpandas._libs.hashtable.PyObjectHashTable.get_item\u001b[1;34m()\u001b[0m\n",
      "File \u001b[1;32mpandas\\_libs\\hashtable_class_helper.pxi:5206\u001b[0m, in \u001b[0;36mpandas._libs.hashtable.PyObjectHashTable.get_item\u001b[1;34m()\u001b[0m\n",
      "\u001b[1;31mKeyError\u001b[0m: 'policy'",
      "\nThe above exception was the direct cause of the following exception:\n",
      "\u001b[1;31mKeyError\u001b[0m                                  Traceback (most recent call last)",
      "\u001b[1;32mc:\\Users\\hanna\\Documents\\GitHub\\modelbased\\Robustness_new.ipynb Cell 13'\u001b[0m in \u001b[0;36m<module>\u001b[1;34m\u001b[0m\n\u001b[0;32m      <a href='vscode-notebook-cell:/c%3A/Users/hanna/Documents/GitHub/modelbased/Robustness_new.ipynb#ch0000017?line=4'>5</a>\u001b[0m funcs \u001b[39m=\u001b[39m {\u001b[39m'\u001b[39m\u001b[39mExpected Number of Deaths\u001b[39m\u001b[39m'\u001b[39m:Expected_Number_of_Deaths,\n\u001b[0;32m      <a href='vscode-notebook-cell:/c%3A/Users/hanna/Documents/GitHub/modelbased/Robustness_new.ipynb#ch0000017?line=5'>6</a>\u001b[0m          \u001b[39m'\u001b[39m\u001b[39mExpected Annual Damage\u001b[39m\u001b[39m'\u001b[39m: Expected_Annual_Damage,\n\u001b[0;32m      <a href='vscode-notebook-cell:/c%3A/Users/hanna/Documents/GitHub/modelbased/Robustness_new.ipynb#ch0000017?line=6'>7</a>\u001b[0m          \u001b[39m'\u001b[39m\u001b[39mTotal Investment Costs\u001b[39m\u001b[39m'\u001b[39m: Total_Investment_Costs}\n\u001b[0;32m      <a href='vscode-notebook-cell:/c%3A/Users/hanna/Documents/GitHub/modelbased/Robustness_new.ipynb#ch0000017?line=8'>9</a>\u001b[0m total_scores \u001b[39m=\u001b[39m {}\n\u001b[1;32m---> <a href='vscode-notebook-cell:/c%3A/Users/hanna/Documents/GitHub/modelbased/Robustness_new.ipynb#ch0000017?line=9'>10</a>\u001b[0m \u001b[39mfor\u001b[39;00m policy \u001b[39min\u001b[39;00m np\u001b[39m.\u001b[39munique(experiments[\u001b[39m'\u001b[39;49m\u001b[39mpolicy\u001b[39;49m\u001b[39m'\u001b[39;49m]):\n\u001b[0;32m     <a href='vscode-notebook-cell:/c%3A/Users/hanna/Documents/GitHub/modelbased/Robustness_new.ipynb#ch0000017?line=10'>11</a>\u001b[0m     scores \u001b[39m=\u001b[39m {}\n\u001b[0;32m     <a href='vscode-notebook-cell:/c%3A/Users/hanna/Documents/GitHub/modelbased/Robustness_new.ipynb#ch0000017?line=11'>12</a>\u001b[0m     logical \u001b[39m=\u001b[39m experiments[\u001b[39m'\u001b[39m\u001b[39mpolicy\u001b[39m\u001b[39m'\u001b[39m] \u001b[39m==\u001b[39m policy\n",
      "File \u001b[1;32mc:\\Users\\hanna\\Anaconda3\\envs\\simmaster\\lib\\site-packages\\pandas\\core\\frame.py:3505\u001b[0m, in \u001b[0;36mDataFrame.__getitem__\u001b[1;34m(self, key)\u001b[0m\n\u001b[0;32m   3503\u001b[0m \u001b[39mif\u001b[39;00m \u001b[39mself\u001b[39m\u001b[39m.\u001b[39mcolumns\u001b[39m.\u001b[39mnlevels \u001b[39m>\u001b[39m \u001b[39m1\u001b[39m:\n\u001b[0;32m   3504\u001b[0m     \u001b[39mreturn\u001b[39;00m \u001b[39mself\u001b[39m\u001b[39m.\u001b[39m_getitem_multilevel(key)\n\u001b[1;32m-> 3505\u001b[0m indexer \u001b[39m=\u001b[39m \u001b[39mself\u001b[39;49m\u001b[39m.\u001b[39;49mcolumns\u001b[39m.\u001b[39;49mget_loc(key)\n\u001b[0;32m   3506\u001b[0m \u001b[39mif\u001b[39;00m is_integer(indexer):\n\u001b[0;32m   3507\u001b[0m     indexer \u001b[39m=\u001b[39m [indexer]\n",
      "File \u001b[1;32mc:\\Users\\hanna\\Anaconda3\\envs\\simmaster\\lib\\site-packages\\pandas\\core\\indexes\\base.py:3623\u001b[0m, in \u001b[0;36mIndex.get_loc\u001b[1;34m(self, key, method, tolerance)\u001b[0m\n\u001b[0;32m   3621\u001b[0m     \u001b[39mreturn\u001b[39;00m \u001b[39mself\u001b[39m\u001b[39m.\u001b[39m_engine\u001b[39m.\u001b[39mget_loc(casted_key)\n\u001b[0;32m   3622\u001b[0m \u001b[39mexcept\u001b[39;00m \u001b[39mKeyError\u001b[39;00m \u001b[39mas\u001b[39;00m err:\n\u001b[1;32m-> 3623\u001b[0m     \u001b[39mraise\u001b[39;00m \u001b[39mKeyError\u001b[39;00m(key) \u001b[39mfrom\u001b[39;00m \u001b[39merr\u001b[39;00m\n\u001b[0;32m   3624\u001b[0m \u001b[39mexcept\u001b[39;00m \u001b[39mTypeError\u001b[39;00m:\n\u001b[0;32m   3625\u001b[0m     \u001b[39m# If we have a listlike key, _check_indexing_error will raise\u001b[39;00m\n\u001b[0;32m   3626\u001b[0m     \u001b[39m#  InvalidIndexError. Otherwise we fall through and re-raise\u001b[39;00m\n\u001b[0;32m   3627\u001b[0m     \u001b[39m#  the TypeError.\u001b[39;00m\n\u001b[0;32m   3628\u001b[0m     \u001b[39mself\u001b[39m\u001b[39m.\u001b[39m_check_indexing_error(key)\n",
      "\u001b[1;31mKeyError\u001b[0m: 'policy'"
     ]
    }
   ],
   "source": [
    "from ema_workbench.analysis import parcoords\n",
    "\n",
    "experiments, outcomes = results4\n",
    "\n",
    "funcs = {'Expected Number of Deaths':Expected_Number_of_Deaths,\n",
    "         'Expected Annual Damage': Expected_Annual_Damage,\n",
    "         'Total Investment Costs': Total_Investment_Costs}\n",
    "\n",
    "total_scores = {}\n",
    "for policy in np.unique(experiments['policy']):\n",
    "    scores = {}\n",
    "    logical = experiments['policy'] == policy\n",
    "\n",
    "    temp_outcomes = {k:v[logical] for k,v in outcomes.items()}\n",
    "\n",
    "    for k, v in temp_outcomes.items():\n",
    "        score = funcs[k](v)\n",
    "        scores[k] = score\n",
    "    total_scores[policy] = scores\n",
    "\n",
    "data = pd.DataFrame(total_scores).T.reset_index(drop=True)\n",
    "limits = parcoords.get_limits(data)\n",
    "\n",
    "paraxes = parcoords.ParallelAxes(limits)\n",
    "paraxes.plot(data)\n",
    "plt.show()"
   ]
  },
  {
   "cell_type": "code",
   "execution_count": 26,
   "id": "a5e65507",
   "metadata": {},
   "outputs": [
    {
     "data": {
      "text/plain": [
       "(   0_RfR 0  0_RfR 1  0_RfR 2  1_RfR 0  1_RfR 1  1_RfR 2  2_RfR 0  2_RfR 1  \\\n",
       " 0        0        0        0        0        0        0        0        0   \n",
       " \n",
       "    2_RfR 2  3_RfR 0  ...  A.3_DikeIncrease 2  A.4_DikeIncrease 0  \\\n",
       " 0        0        0  ...                   0                   0   \n",
       " \n",
       "    A.4_DikeIncrease 1  A.4_DikeIncrease 2  A.5_DikeIncrease 0  \\\n",
       " 0                   0                   0                   0   \n",
       " \n",
       "    A.5_DikeIncrease 1  A.5_DikeIncrease 2  Expected Number of Deaths  \\\n",
       " 0                   0                   0                        0.0   \n",
       " \n",
       "    Expected Annual Damage  Total Investment Costs  \n",
       " 0                     0.0                     0.0  \n",
       " \n",
       " [1 rows x 34 columns],\n",
       "     epsilon_progress    nfe\n",
       " 0                  0      0\n",
       " 1                  6    100\n",
       " 2                 24   1196\n",
       " 3                 32   2289\n",
       " 4                 36   3335\n",
       " 5                 39   4392\n",
       " 6                 39   5444\n",
       " 7                 39   6444\n",
       " 8                 39   7447\n",
       " 9                 39   8500\n",
       " 10                39   9549\n",
       " 11                39  10584\n",
       " 12                39  11647\n",
       " 13                39  12660\n",
       " 14                39  13676\n",
       " 15                39  14720)"
      ]
     },
     "execution_count": 26,
     "metadata": {},
     "output_type": "execute_result"
    }
   ],
   "source": [
    "results4"
   ]
  },
  {
   "cell_type": "code",
   "execution_count": 27,
   "id": "f35b51e2",
   "metadata": {},
   "outputs": [
    {
     "data": {
      "text/html": [
       "<div>\n",
       "<style scoped>\n",
       "    .dataframe tbody tr th:only-of-type {\n",
       "        vertical-align: middle;\n",
       "    }\n",
       "\n",
       "    .dataframe tbody tr th {\n",
       "        vertical-align: top;\n",
       "    }\n",
       "\n",
       "    .dataframe thead th {\n",
       "        text-align: right;\n",
       "    }\n",
       "</style>\n",
       "<table border=\"1\" class=\"dataframe\">\n",
       "  <thead>\n",
       "    <tr style=\"text-align: right;\">\n",
       "      <th></th>\n",
       "      <th>0_RfR 0</th>\n",
       "      <th>0_RfR 1</th>\n",
       "      <th>0_RfR 2</th>\n",
       "      <th>1_RfR 0</th>\n",
       "      <th>1_RfR 1</th>\n",
       "      <th>1_RfR 2</th>\n",
       "      <th>2_RfR 0</th>\n",
       "      <th>2_RfR 1</th>\n",
       "      <th>2_RfR 2</th>\n",
       "      <th>3_RfR 0</th>\n",
       "      <th>...</th>\n",
       "      <th>A.3_DikeIncrease 2</th>\n",
       "      <th>A.4_DikeIncrease 0</th>\n",
       "      <th>A.4_DikeIncrease 1</th>\n",
       "      <th>A.4_DikeIncrease 2</th>\n",
       "      <th>A.5_DikeIncrease 0</th>\n",
       "      <th>A.5_DikeIncrease 1</th>\n",
       "      <th>A.5_DikeIncrease 2</th>\n",
       "      <th>Expected Number of Deaths</th>\n",
       "      <th>Expected Annual Damage</th>\n",
       "      <th>Total Investment Costs</th>\n",
       "    </tr>\n",
       "  </thead>\n",
       "  <tbody>\n",
       "    <tr>\n",
       "      <th>0</th>\n",
       "      <td>0</td>\n",
       "      <td>0</td>\n",
       "      <td>0</td>\n",
       "      <td>0</td>\n",
       "      <td>0</td>\n",
       "      <td>0</td>\n",
       "      <td>0</td>\n",
       "      <td>0</td>\n",
       "      <td>0</td>\n",
       "      <td>0</td>\n",
       "      <td>...</td>\n",
       "      <td>0</td>\n",
       "      <td>0</td>\n",
       "      <td>0</td>\n",
       "      <td>0</td>\n",
       "      <td>0</td>\n",
       "      <td>0</td>\n",
       "      <td>0</td>\n",
       "      <td>0.0</td>\n",
       "      <td>0.0</td>\n",
       "      <td>0.0</td>\n",
       "    </tr>\n",
       "  </tbody>\n",
       "</table>\n",
       "<p>1 rows × 34 columns</p>\n",
       "</div>"
      ],
      "text/plain": [
       "   0_RfR 0  0_RfR 1  0_RfR 2  1_RfR 0  1_RfR 1  1_RfR 2  2_RfR 0  2_RfR 1  \\\n",
       "0        0        0        0        0        0        0        0        0   \n",
       "\n",
       "   2_RfR 2  3_RfR 0  ...  A.3_DikeIncrease 2  A.4_DikeIncrease 0  \\\n",
       "0        0        0  ...                   0                   0   \n",
       "\n",
       "   A.4_DikeIncrease 1  A.4_DikeIncrease 2  A.5_DikeIncrease 0  \\\n",
       "0                   0                   0                   0   \n",
       "\n",
       "   A.5_DikeIncrease 1  A.5_DikeIncrease 2  Expected Number of Deaths  \\\n",
       "0                   0                   0                        0.0   \n",
       "\n",
       "   Expected Annual Damage  Total Investment Costs  \n",
       "0                     0.0                     0.0  \n",
       "\n",
       "[1 rows x 34 columns]"
      ]
     },
     "execution_count": 27,
     "metadata": {},
     "output_type": "execute_result"
    }
   ],
   "source": [
    "archive.iloc[:, :]"
   ]
  },
  {
   "cell_type": "code",
   "execution_count": 21,
   "id": "413d1236",
   "metadata": {},
   "outputs": [],
   "source": [
    "with open('data/scenariosselection.pickle', 'rb') as filehandler:\n",
    "        scenarios = pickle.load(filehandler)"
   ]
  },
  {
   "cell_type": "code",
   "execution_count": null,
   "id": "289d33de",
   "metadata": {},
   "outputs": [
    {
     "data": {
      "text/plain": [
       "[Scenario({'A.0_ID flood wave shape': 18.0, 'A.1_Bmax': 72.48084744746198, 'A.1_Brate': 1.0, 'A.1_pfail': 0.7379373650211618, 'A.2_Bmax': 113.92586554143531, 'A.2_Brate': 10, 'A.2_pfail': 0.0908087249229613, 'A.3_Bmax': 73.94168010377241, 'A.3_Brate': 1.0, 'A.3_pfail': 0.8495396691401069, 'A.4_Bmax': 285.78579914861456, 'A.4_Brate': 1.0, 'A.4_pfail': 0.1918754575501329, 'A.5_Bmax': 235.06647779187858, 'A.5_Brate': 1.5, 'A.5_pfail': 0.7675186843933242, 'discount rate 0': 4.5, 'discount rate 1': 4.5, 'discount rate 2': 3.5}),\n",
       " Scenario({'A.0_ID flood wave shape': 22.0, 'A.1_Bmax': 93.99588525027544, 'A.1_Brate': 1.0, 'A.1_pfail': 0.8778315561026746, 'A.2_Bmax': 328.5607743016249, 'A.2_Brate': 10, 'A.2_pfail': 0.6741971552068695, 'A.3_Bmax': 59.7172688075795, 'A.3_Brate': 10, 'A.3_pfail': 0.9920050540414763, 'A.4_Bmax': 49.012688339540986, 'A.4_Brate': 10, 'A.4_pfail': 0.8318102024423811, 'A.5_Bmax': 59.96563408327613, 'A.5_Brate': 10, 'A.5_pfail': 0.8496313856653827, 'discount rate 0': 4.5, 'discount rate 1': 4.5, 'discount rate 2': 2.5}),\n",
       " Scenario({'A.0_ID flood wave shape': 129.0, 'A.1_Bmax': 97.41668038627856, 'A.1_Brate': 10, 'A.1_pfail': 0.7972800985561871, 'A.2_Bmax': 304.0876467572266, 'A.2_Brate': 10, 'A.2_pfail': 0.9757081411336703, 'A.3_Bmax': 327.40283914222493, 'A.3_Brate': 10, 'A.3_pfail': 0.16713747580910993, 'A.4_Bmax': 243.2947403951448, 'A.4_Brate': 1.5, 'A.4_pfail': 0.7453608852612188, 'A.5_Bmax': 262.2966467357128, 'A.5_Brate': 1.0, 'A.5_pfail': 0.968523241262721, 'discount rate 0': 1.5, 'discount rate 1': 2.5, 'discount rate 2': 2.5}),\n",
       " Scenario({'A.0_ID flood wave shape': 123.0, 'A.1_Bmax': 116.90834108335467, 'A.1_Brate': 10, 'A.1_pfail': 0.6049218810426659, 'A.2_Bmax': 195.36786185361035, 'A.2_Brate': 1.5, 'A.2_pfail': 0.7489797029446754, 'A.3_Bmax': 36.84841781891715, 'A.3_Brate': 10, 'A.3_pfail': 0.11756635420822, 'A.4_Bmax': 241.96389995069546, 'A.4_Brate': 10, 'A.4_pfail': 0.7632178709441642, 'A.5_Bmax': 107.05381509031172, 'A.5_Brate': 1.0, 'A.5_pfail': 0.13092186189460472, 'discount rate 0': 3.5, 'discount rate 1': 2.5, 'discount rate 2': 4.5}),\n",
       " Scenario({'A.0_ID flood wave shape': 64.0, 'A.1_Bmax': 164.97192508686516, 'A.1_Brate': 10, 'A.1_pfail': 0.3006593328038557, 'A.2_Bmax': 318.0524912287977, 'A.2_Brate': 10, 'A.2_pfail': 0.05281168303012564, 'A.3_Bmax': 266.2592770645091, 'A.3_Brate': 1.0, 'A.3_pfail': 0.07959237415175213, 'A.4_Bmax': 229.63435805844537, 'A.4_Brate': 10, 'A.4_pfail': 0.09680651743523117, 'A.5_Bmax': 38.760752450357096, 'A.5_Brate': 1.5, 'A.5_pfail': 0.5303172909378691, 'discount rate 0': 1.5, 'discount rate 1': 1.5, 'discount rate 2': 1.5}),\n",
       " Scenario({'A.0_ID flood wave shape': 104.0, 'A.1_Bmax': 108.6109754407533, 'A.1_Brate': 10, 'A.1_pfail': 0.31178280220179067, 'A.2_Bmax': 192.08107877066715, 'A.2_Brate': 10, 'A.2_pfail': 0.058715580669593356, 'A.3_Bmax': 230.72084625998937, 'A.3_Brate': 1.5, 'A.3_pfail': 0.07965896263208395, 'A.4_Bmax': 221.691498208645, 'A.4_Brate': 1.5, 'A.4_pfail': 0.7809426671169448, 'A.5_Bmax': 282.71563173575623, 'A.5_Brate': 1.0, 'A.5_pfail': 0.2168129255835619, 'discount rate 0': 4.5, 'discount rate 1': 2.5, 'discount rate 2': 3.5}),\n",
       " Scenario({'A.0_ID flood wave shape': 24.0, 'A.1_Bmax': 135.3080869308499, 'A.1_Brate': 10, 'A.1_pfail': 0.8754353581121537, 'A.2_Bmax': 61.029525504135414, 'A.2_Brate': 10, 'A.2_pfail': 0.9894673017832717, 'A.3_Bmax': 35.20888221684632, 'A.3_Brate': 1.5, 'A.3_pfail': 0.021687549813807536, 'A.4_Bmax': 289.04911740899615, 'A.4_Brate': 10, 'A.4_pfail': 0.8007731871487549, 'A.5_Bmax': 51.62960758564276, 'A.5_Brate': 1.0, 'A.5_pfail': 0.8254759601850835, 'discount rate 0': 1.5, 'discount rate 1': 1.5, 'discount rate 2': 1.5})]"
      ]
     },
     "execution_count": 35,
     "metadata": {},
     "output_type": "execute_result"
    }
   ],
   "source": [
    "scenarios"
   ]
  },
  {
   "cell_type": "code",
   "execution_count": null,
   "id": "d8e4b86c",
   "metadata": {},
   "outputs": [],
   "source": []
  }
 ],
 "metadata": {
  "interpreter": {
   "hash": "bf2c32173ace6e8df916093214d79022fe1be3f368685e6950bae84362adba3d"
  },
  "kernelspec": {
   "display_name": "Python 3.9.6 ('simmaster')",
   "language": "python",
   "name": "python3"
  },
  "language_info": {
   "codemirror_mode": {
    "name": "ipython",
    "version": 3
   },
   "file_extension": ".py",
   "mimetype": "text/x-python",
   "name": "python",
   "nbconvert_exporter": "python",
   "pygments_lexer": "ipython3",
   "version": "3.9.6"
  }
 },
 "nbformat": 4,
 "nbformat_minor": 5
}
