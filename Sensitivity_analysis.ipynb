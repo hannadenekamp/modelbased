{
 "cells": [
  {
   "cell_type": "code",
   "execution_count": 2,
   "metadata": {},
   "outputs": [],
   "source": [
    "import time\n",
    "\n",
    "import pickle"
   ]
  },
  {
   "cell_type": "code",
   "execution_count": 3,
   "metadata": {},
   "outputs": [],
   "source": [
    "from __future__ import (unicode_literals, print_function, absolute_import,\n",
    "                        division)\n",
    "\n",
    "\n",
    "from ema_workbench import (Model, MultiprocessingEvaluator, Policy,\n",
    "                           Scenario)\n",
    "\n",
    "from ema_workbench.em_framework.evaluators import perform_experiments\n",
    "from ema_workbench.em_framework.samplers import sample_uncertainties\n",
    "from ema_workbench.util import ema_logging\n",
    "from problem_formulation import get_model_for_problem_formulation\n",
    "import time\n",
    "\n",
    "if __name__ == '__main__':\n",
    "    ema_logging.log_to_stderr(ema_logging.INFO)\n",
    "\n",
    "    dike_model, planning_steps = get_model_for_problem_formulation(0)\n",
    "\n",
    "    # Build a user-defined scenario and policy:\n",
    "    reference_values = {'Bmax': 175, 'Brate': 1.5, 'pfail': 0.5,\n",
    "                        'ID flood wave shape': 4, 'planning steps': 2}\n",
    "    reference_values.update({f'discount rate {n}': 3.5 for n in planning_steps})\n",
    "    scen1 = {}\n",
    "\n",
    "    for key in dike_model.uncertainties:\n",
    "        name_split = key.name.split('_')\n",
    "\n",
    "        if len(name_split) == 1:\n",
    "            scen1.update({key.name: reference_values[key.name]})\n",
    "\n",
    "        else:\n",
    "            scen1.update({key.name: reference_values[name_split[1]]})\n",
    "\n",
    "    ref_scenario = Scenario('reference', **scen1)\n",
    "\n",
    "    # no dike increase, no warning, none of the rfr\n",
    "    zero_policy = {'DaysToThreat': 0}\n",
    "    zero_policy.update({f'DikeIncrease {n}': 0 for n in planning_steps})\n",
    "    zero_policy.update({f'RfR {n}': 0 for n in planning_steps})\n",
    "    pol0 = {}\n",
    "\n",
    "    for key in dike_model.levers:\n",
    "        s1, s2 = key.name.split('_')\n",
    "        pol0.update({key.name: zero_policy[s2]})\n",
    "\n",
    "    policy0 = Policy('Policy 0', **pol0)\n",
    "\n"
   ]
  },
  {
   "cell_type": "code",
   "execution_count": 4,
   "metadata": {},
   "outputs": [],
   "source": [
    "# # use uncertainties and model outcomes for sensitivyt\n",
    "# import pandas as pd\n",
    "# outcomes_df = pd.DataFrame.from_dict(outcomes)\n",
    "\n",
    "# columns_uncertainty= []\n",
    "# for uncertainty in dike_model.uncertainties: \n",
    "#     columns_uncertainty.append(str(uncertainty))\n",
    "    \n",
    "# only_experiments = experiments[columns_uncertainty]\n",
    "# experiments_outcomes = pd.concat([experiments[columns_uncertainty], outcomes_df], axis=1) # one dataframe for experiments and outcomes\n",
    "\n",
    "\n"
   ]
  },
  {
   "cell_type": "code",
   "execution_count": 5,
   "metadata": {},
   "outputs": [],
   "source": [
    "#sobol sampling, problem formulation 1\n",
    "#from ema_workbench.em_framework.evaluators import SOBOL\n",
    "from ema_workbench import Samplers\n",
    "\n",
    "dike_model, planning_steps = get_model_for_problem_formulation(1)\n",
    "\n",
    "\n",
    "\n"
   ]
  },
  {
   "cell_type": "code",
   "execution_count": 6,
   "metadata": {},
   "outputs": [],
   "source": [
    "with open('data/moro_results7.pickle', 'rb') as filehandler:\n",
    "        results4 = pickle.load(filehandler)\n",
    "\n",
    "archive, convergence= results4"
   ]
  },
  {
   "cell_type": "code",
   "execution_count": 7,
   "metadata": {},
   "outputs": [],
   "source": [
    "# Create a function which sets everything to 0 by default\n",
    "def get_0_dict():\n",
    "    return {l.name: 0 for l in dike_model.levers}\n",
    "\n",
    "# Creates a Policy object from a dict and a (optional) name\n",
    "def create_policy(dict1, name=None):\n",
    "    return Policy(f\"Policy_{name}\", **dict(get_0_dict(), **dict1))"
   ]
  },
  {
   "cell_type": "code",
   "execution_count": 8,
   "metadata": {},
   "outputs": [],
   "source": [
    "pol_list = []\n",
    "#pol_list.append(create_policy({}, name=\"Zero\"))\n",
    "location = '2'\n",
    "\n",
    "pol_list.append(create_policy({\"A.3_DikeIncrease 0\": 10, f\"{location}_RfR 0\": 0, \"EWS_DaysToThreat\": 4},\n",
    "                            name=f\"Dike_{10}dm_RfR_{location}0_EWS_4d\"))\n",
    "\n",
    "pol_list.append(create_policy({\"A.3_DikeIncrease 0\": 0, f\"{location}_RfR 0\": 1, \"EWS_DaysToThreat\": 4},\n",
    "                            name=f\"Dike_{0}dm_RfR_{location}1_EWS_4d\"))\n",
    "                            \n",
    "pol_list.append(create_policy({\"A.3_DikeIncrease 0\": 10, f\"{location}_RfR 0\": 1, \"EWS_DaysToThreat\": 4},\n",
    "                            name=f\"Dike_{10}dm_RfR_{location}1_EWS_4d\"))                           "
   ]
  },
  {
   "cell_type": "code",
   "execution_count": 9,
   "metadata": {},
   "outputs": [],
   "source": [
    "policies = archive.iloc[:,:-3]"
   ]
  },
  {
   "cell_type": "code",
   "execution_count": 10,
   "metadata": {},
   "outputs": [],
   "source": [
    "\n",
    "policies_to_evaluate = []\n",
    "\n",
    "for i, policy in policies.iterrows():\n",
    "    pol_list.append(Policy(str(i), **policy.to_dict()))"
   ]
  },
  {
   "cell_type": "code",
   "execution_count": 18,
   "metadata": {},
   "outputs": [],
   "source": [
    "# True, use results in pickle file; False, run MultiprocessingEvaluator\n",
    "import pickle\n",
    "use_pickle1 = True\n",
    "\n",
    "if use_pickle1:\n",
    "    with open('data/sensitivity_results_allpolicies.pickle', 'rb') as filehandler:\n",
    "        results = pickle.load(filehandler)\n",
    "\n",
    "else:\n",
    "    # pass the policies list to EMA workbench experiment runs\n",
    "    with MultiprocessingEvaluator(dike_model, n_processes=9) as evaluator: \n",
    "        results = evaluator.perform_experiments(scenarios=1200, policies=pol_list, uncertainty_sampling=Samplers.SOBOL)\n",
    "\n",
    "    # Save results in Pickle file\n",
    "    with open('data/sensitivity_results_allpolicies.pickle', 'wb') as filehandler:\n",
    "        pickle.dump(results, filehandler)"
   ]
  },
  {
   "cell_type": "code",
   "execution_count": 25,
   "metadata": {},
   "outputs": [],
   "source": [
    "policy_dict = {\n",
    "    'Policy_Dike_0dm_RfR_20_EWS_0d': 'Policy 0', \n",
    "    'Policy_Dike_0dm_RfR_20_EWS_4d': 'Policy 1: EWS',\n",
    "    'Policy_Dike_0dm_RfR_21_EWS_0d': 'Policy 2: RfR', \n",
    "    'Policy_Dike_0dm_RfR_21_EWS_4d': 'Policy 3: RfR+EWS',\n",
    "    'Policy_Dike_10dm_RfR_20_EWS_0d': 'Policy 4: Dike',\n",
    "    'Policy_Dike_10dm_RfR_20_EWS_4d': 'Policy 5: Dike+EWS',\n",
    "    'Policy_Dike_10dm_RfR_21_EWS_0d': 'Policy 6: Dike+RfR', \n",
    "    'Policy_Dike_10dm_RfR_21_EWS_4d': 'Policy 7: Dike+RfR+EWS',\n",
    "    '0': 'Optimization policy'\n",
    "    }"
   ]
  },
  {
   "cell_type": "code",
   "execution_count": 26,
   "metadata": {},
   "outputs": [],
   "source": [
    "# Create a dataframe from outcomes, and add the policy column to it\n",
    "exp, outcomes = results\n",
    "exp['policy'] = exp.policy.map(policy_dict)"
   ]
  },
  {
   "cell_type": "code",
   "execution_count": 21,
   "metadata": {},
   "outputs": [
    {
     "name": "stdout",
     "output_type": "stream",
     "text": [
      "Expected Annual Damage\n"
     ]
    },
    {
     "data": {
      "image/png": "[encoded data removed]",
      "text/plain": [
       "<Figure size 576x432 with 1 Axes>"
      ]
     },
     "metadata": {},
     "output_type": "display_data"
    },
    {
     "name": "stdout",
     "output_type": "stream",
     "text": [
      "Expected Number of Deaths\n"
     ]
    },
    {
     "data": {
      "image/png": "[encoded data removed]",
      "text/plain": [
       "<Figure size 576x432 with 1 Axes>"
      ]
     },
     "metadata": {},
     "output_type": "display_data"
    }
   ],
   "source": [
    "from SALib.analyze import sobol\n",
    "from ema_workbench.em_framework.salib_samplers import get_SALib_problem\n",
    "import seaborn as sns\n",
    "import matplotlib.pyplot as plt\n",
    "import pandas as pd\n",
    "\n",
    "#make dictionary of outcomes\n",
    "sobol_df = pd.DataFrame.from_dict(outcomes)\n",
    "#sobol_df.drop('Expected Evacuation Costs', inplace = True, axis =1)\n",
    "#sobol_df.drop('RfR Total Costs', inplace = True, axis =1)\n",
    "sobol_df.drop('Total Investment Costs', inplace = True, axis =1)\n",
    "\n",
    "problem = get_SALib_problem(dike_model.uncertainties)\n",
    "\n",
    "\n",
    "for i in sobol_df.columns:\n",
    "\n",
    "    res = sobol_df[i].values\n",
    "    Si = sobol.analyze(problem, res, calc_second_order=True, print_to_console = False)\n",
    "    print(i)\n",
    "    scores_filtered = {k: Si[k] for k in [\"ST\", \"ST_conf\", \"S1\", \"S1_conf\"]}\n",
    "    Si_df = pd.DataFrame(scores_filtered, index=problem[\"names\"])\n",
    "\n",
    "\n",
    "    sns.set_style(\"white\")\n",
    "    fig, ax = plt.subplots(1)\n",
    "\n",
    "    indices = Si_df[[\"S1\", \"ST\"]]\n",
    "    err = Si_df[[\"S1_conf\", \"ST_conf\"]]\n",
    "\n",
    "    indices.plot.bar(yerr=err.values.T, ax=ax)\n",
    "    ax.set_ylim(-0.25, 1.2)\n",
    "    fig.set_size_inches(8, 6)\n",
    "    fig.subplots_adjust(bottom=0.3)\n",
    "    plt.title('Sobol analysis for '+str(i))\n",
    "    plt.savefig(f'sobolpolicy0_{i}')\n",
    "    plt.show()\n",
    "    \n"
   ]
  },
  {
   "cell_type": "code",
   "execution_count": 15,
   "metadata": {},
   "outputs": [
    {
     "data": {
      "image/png": "[encoded data removed]",
      "text/plain": [
       "<Figure size 432x288 with 1 Axes>"
      ]
     },
     "metadata": {},
     "output_type": "display_data"
    }
   ],
   "source": [
    "import numpy as np\n",
    "\n",
    "Y =  sobol_df['Expected Number of Deaths'].values\n",
    "\n",
    "s_data = pd.DataFrame(index=problem['names'],\n",
    "                      columns=np.arange(10,1200,50)*(2*problem['num_vars']+2))\n",
    "for j in s_data.columns:\n",
    "    scores = sobol.analyze(problem, Y[0:j], calc_second_order=True, print_to_console=False)\n",
    "    s_data.loc[:,j] = scores['ST']\n",
    "    \n",
    "fig, ax = plt.subplots(1)\n",
    "\n",
    "s_data.T.plot(ax=ax)\n",
    "ax.set_xlabel('Samples')\n",
    "ax.set_ylabel('Total index (ST)')\n",
    "plt.show()"
   ]
  },
  {
   "cell_type": "code",
   "execution_count": 16,
   "metadata": {},
   "outputs": [
    {
     "data": {
      "text/html": [
       "<div>\n",
       "<style scoped>\n",
       "    .dataframe tbody tr th:only-of-type {\n",
       "        vertical-align: middle;\n",
       "    }\n",
       "\n",
       "    .dataframe tbody tr th {\n",
       "        vertical-align: top;\n",
       "    }\n",
       "\n",
       "    .dataframe thead th {\n",
       "        text-align: right;\n",
       "    }\n",
       "</style>\n",
       "<table border=\"1\" class=\"dataframe\">\n",
       "  <thead>\n",
       "    <tr style=\"text-align: right;\">\n",
       "      <th></th>\n",
       "      <th>Expected Annual Damage</th>\n",
       "      <th>Expected Number of Deaths</th>\n",
       "    </tr>\n",
       "  </thead>\n",
       "  <tbody>\n",
       "    <tr>\n",
       "      <th>0</th>\n",
       "      <td>9.454105e+07</td>\n",
       "      <td>0.011664</td>\n",
       "    </tr>\n",
       "    <tr>\n",
       "      <th>1</th>\n",
       "      <td>1.221821e+08</td>\n",
       "      <td>0.015281</td>\n",
       "    </tr>\n",
       "    <tr>\n",
       "      <th>2</th>\n",
       "      <td>9.454105e+07</td>\n",
       "      <td>0.011664</td>\n",
       "    </tr>\n",
       "    <tr>\n",
       "      <th>3</th>\n",
       "      <td>9.454105e+07</td>\n",
       "      <td>0.011664</td>\n",
       "    </tr>\n",
       "    <tr>\n",
       "      <th>4</th>\n",
       "      <td>1.030444e+08</td>\n",
       "      <td>0.012537</td>\n",
       "    </tr>\n",
       "    <tr>\n",
       "      <th>...</th>\n",
       "      <td>...</td>\n",
       "      <td>...</td>\n",
       "    </tr>\n",
       "    <tr>\n",
       "      <th>191995</th>\n",
       "      <td>0.000000e+00</td>\n",
       "      <td>0.000000</td>\n",
       "    </tr>\n",
       "    <tr>\n",
       "      <th>191996</th>\n",
       "      <td>0.000000e+00</td>\n",
       "      <td>0.000000</td>\n",
       "    </tr>\n",
       "    <tr>\n",
       "      <th>191997</th>\n",
       "      <td>0.000000e+00</td>\n",
       "      <td>0.000000</td>\n",
       "    </tr>\n",
       "    <tr>\n",
       "      <th>191998</th>\n",
       "      <td>0.000000e+00</td>\n",
       "      <td>0.000000</td>\n",
       "    </tr>\n",
       "    <tr>\n",
       "      <th>191999</th>\n",
       "      <td>0.000000e+00</td>\n",
       "      <td>0.000000</td>\n",
       "    </tr>\n",
       "  </tbody>\n",
       "</table>\n",
       "<p>192000 rows × 2 columns</p>\n",
       "</div>"
      ],
      "text/plain": [
       "        Expected Annual Damage  Expected Number of Deaths\n",
       "0                 9.454105e+07                   0.011664\n",
       "1                 1.221821e+08                   0.015281\n",
       "2                 9.454105e+07                   0.011664\n",
       "3                 9.454105e+07                   0.011664\n",
       "4                 1.030444e+08                   0.012537\n",
       "...                        ...                        ...\n",
       "191995            0.000000e+00                   0.000000\n",
       "191996            0.000000e+00                   0.000000\n",
       "191997            0.000000e+00                   0.000000\n",
       "191998            0.000000e+00                   0.000000\n",
       "191999            0.000000e+00                   0.000000\n",
       "\n",
       "[192000 rows x 2 columns]"
      ]
     },
     "execution_count": 16,
     "metadata": {},
     "output_type": "execute_result"
    }
   ],
   "source": [
    "sobol_df"
   ]
  },
  {
   "cell_type": "code",
   "execution_count": null,
   "metadata": {},
   "outputs": [],
   "source": []
  }
 ],
 "metadata": {
  "kernelspec": {
   "display_name": "Python 3.9.6 ('modelbased')",
   "language": "python",
   "name": "python3"
  },
  "language_info": {
   "codemirror_mode": {
    "name": "ipython",
    "version": 3
   },
   "file_extension": ".py",
   "mimetype": "text/x-python",
   "name": "python",
   "nbconvert_exporter": "python",
   "pygments_lexer": "ipython3",
   "version": "3.9.6"
  },
  "orig_nbformat": 4,
  "vscode": {
   "interpreter": {
    "hash": "f1abbd96b0e078db1a3aab9d5261343ea8d5d803067267cc150f68dedfc4f142"
   }
  }
 },
 "nbformat": 4,
 "nbformat_minor": 2
}
